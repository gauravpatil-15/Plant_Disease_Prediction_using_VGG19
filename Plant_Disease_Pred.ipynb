{
  "nbformat": 4,
  "nbformat_minor": 0,
  "metadata": {
    "colab": {
      "provenance": []
    },
    "kernelspec": {
      "name": "python3",
      "display_name": "Python 3"
    },
    "language_info": {
      "name": "python"
    },
    "gpuClass": "standard",
    "accelerator": "GPU"
  },
  "cells": [
    {
      "cell_type": "code",
      "source": [
        "!unzip /content/drive/MyDrive/EDI_Dataset_Zipped.zip"
      ],
      "metadata": {
        "id": "ZLYQOpATTcqT"
      },
      "execution_count": null,
      "outputs": []
    },
    {
      "cell_type": "code",
      "execution_count": null,
      "metadata": {
        "id": "LKSl6EodvpwT"
      },
      "outputs": [],
      "source": [
        "# Importing all the required libraries\n",
        "\n",
        "import numpy as np\n",
        "import pandas as pd\n",
        "import matplotlib.pyplot as plt\n",
        "import os\n",
        "\n",
        "from google.colab.patches import cv2_imshow\n",
        "import cv2\n",
        "\n",
        "import keras\n",
        "import tensorflow as tf\n",
        "\n",
        "from keras.preprocessing.image import ImageDataGenerator\n",
        "from tensorflow.keras.utils import img_to_array\n",
        "from tensorflow.keras.utils import load_img\n",
        "from keras.applications.vgg19 import VGG19, preprocess_input, decode_predictions"
      ]
    },
    {
      "cell_type": "code",
      "source": [
        "np.random.seed(1234)"
      ],
      "metadata": {
        "id": "xgi1nTZig23l"
      },
      "execution_count": null,
      "outputs": []
    },
    {
      "cell_type": "code",
      "source": [
        "train_datagen = ImageDataGenerator(zoom_range=0.5, shear_range=0.3,             # Generate batches of tensor image data\n",
        "                                 horizontal_flip=True,\n",
        "                                 preprocessing_function = preprocess_input)\n",
        "\n",
        "val_datagen=ImageDataGenerator(preprocessing_function = preprocess_input )"
      ],
      "metadata": {
        "id": "IzFd6JX9CmiB"
      },
      "execution_count": null,
      "outputs": []
    },
    {
      "cell_type": "code",
      "source": [
        "train = train_datagen.flow_from_directory(directory=\"/content/EDI_Dataset/New Plant Diseases Dataset(Augmented)/New Plant Diseases Dataset(Augmented)/train\",\n",
        "                                        target_size=(256,256),\n",
        "                                        batch_size=(32))\n",
        "\n",
        "val = val_datagen.flow_from_directory(directory=\"/content/EDI_Dataset/New Plant Diseases Dataset(Augmented)/New Plant Diseases Dataset(Augmented)/valid\",\n",
        "                                        target_size=(256,256),\n",
        "                                        batch_size=(32))"
      ],
      "metadata": {
        "id": "WvADexjfPZEg",
        "colab": {
          "base_uri": "https://localhost:8080/"
        },
        "outputId": "a04e4c2c-f75b-48cc-e39e-4441aff23c37"
      },
      "execution_count": null,
      "outputs": [
        {
          "output_type": "stream",
          "name": "stdout",
          "text": [
            "Found 24342 images belonging to 13 classes.\n",
            "Found 6085 images belonging to 13 classes.\n"
          ]
        }
      ]
    },
    {
      "cell_type": "code",
      "source": [
        "# class_names = train.class_names\n",
        "# print(class_names)"
      ],
      "metadata": {
        "id": "VUKT2T5tukEb"
      },
      "execution_count": null,
      "outputs": []
    },
    {
      "cell_type": "code",
      "source": [
        "t_img,label=train.next()\n",
        "t_img.shape"
      ],
      "metadata": {
        "id": "RXw_R-bKPkPM",
        "colab": {
          "base_uri": "https://localhost:8080/"
        },
        "outputId": "524f8ebb-7ed6-4b59-8f1c-76fc56ac9b6c"
      },
      "execution_count": null,
      "outputs": [
        {
          "output_type": "execute_result",
          "data": {
            "text/plain": [
              "(32, 256, 256, 3)"
            ]
          },
          "metadata": {},
          "execution_count": 8
        }
      ]
    },
    {
      "cell_type": "code",
      "source": [
        "def plot_image(img_arr,label):\n",
        "  for im ,l in zip(img_arr,label):\n",
        "    plt.figure(figsize=(5,5))\n",
        "    plt.show()\n",
        "    plt.imshow(im)"
      ],
      "metadata": {
        "id": "FQhf2LIHPkQp"
      },
      "execution_count": null,
      "outputs": []
    },
    {
      "cell_type": "code",
      "source": [
        "# plot_image(t_img[:],label[:])"
      ],
      "metadata": {
        "id": "toO3bTB3PkSC"
      },
      "execution_count": null,
      "outputs": []
    },
    {
      "cell_type": "code",
      "source": [
        "def process_folder(folderpath):\n",
        "\n",
        "    c = 0\n",
        "    imagelist = os.listdir(folderpath)  # storing all the imagepaths in the list...\n",
        "    for image in imagelist:\n",
        "      if c != 2:\n",
        "        imagepath = os.path.join(folderpath, image)\n",
        "\n",
        "        img = cv2.imread(imagepath)\n",
        "\n",
        "        gray = cv2.cvtColor(img,cv2.COLOR_BGR2GRAY)  # Converting color image to gray image..\n",
        "        ret, thresh = cv2.threshold(gray,0,255,cv2.THRESH_BINARY_INV+cv2.THRESH_OTSU)   # Applying Otsu's Thresholding Technique\n",
        "\n",
        "        cv2_imshow(img)\n",
        "        cv2_imshow(gray)\n",
        "        cv2_imshow(thresh)\n",
        "\n",
        "        c = c + 1\n",
        "      else :\n",
        "        break"
      ],
      "metadata": {
        "id": "pSohRoxLMpQ8"
      },
      "execution_count": null,
      "outputs": []
    },
    {
      "cell_type": "code",
      "source": [
        "process_folder(\"/content/EDI_Dataset/New Plant Diseases Dataset(Augmented)/New Plant Diseases Dataset(Augmented)/train/Apple___Apple_scab\")"
      ],
      "metadata": {
        "id": "djE26AAdsfh1"
      },
      "execution_count": null,
      "outputs": []
    },
    {
      "cell_type": "markdown",
      "source": [
        "# # Bulding Model"
      ],
      "metadata": {
        "id": "ccDBqK3gj2KY"
      }
    },
    {
      "cell_type": "code",
      "source": [
        "from keras.layers import Dense, Flatten\n",
        "from keras.models import Model\n",
        "from keras.applications.vgg19 import VGG19"
      ],
      "metadata": {
        "id": "7q-ZYkKMj1sI"
      },
      "execution_count": null,
      "outputs": []
    },
    {
      "cell_type": "code",
      "source": [
        "base_model = VGG19(input_shape=(256,256,3), include_top = False)"
      ],
      "metadata": {
        "id": "SCHb_x4Xlxyt",
        "colab": {
          "base_uri": "https://localhost:8080/"
        },
        "outputId": "a0f0ebc1-a796-4a30-ea81-0c3cad00faec"
      },
      "execution_count": null,
      "outputs": [
        {
          "output_type": "stream",
          "name": "stdout",
          "text": [
            "Downloading data from https://storage.googleapis.com/tensorflow/keras-applications/vgg19/vgg19_weights_tf_dim_ordering_tf_kernels_notop.h5\n",
            "80134624/80134624 [==============================] - 1s 0us/step\n"
          ]
        }
      ]
    },
    {
      "cell_type": "code",
      "source": [
        "for layer in base_model.layers:\n",
        "  layer.trainable = False"
      ],
      "metadata": {
        "id": "bI3oZV-FmJea"
      },
      "execution_count": null,
      "outputs": []
    },
    {
      "cell_type": "code",
      "source": [
        "base_model.summary()"
      ],
      "metadata": {
        "id": "T_3moLYimsZe",
        "colab": {
          "base_uri": "https://localhost:8080/"
        },
        "outputId": "14b8b3fa-b89c-42c0-aa72-5b06500d3f1d"
      },
      "execution_count": null,
      "outputs": [
        {
          "output_type": "stream",
          "name": "stdout",
          "text": [
            "Model: \"vgg19\"\n",
            "_________________________________________________________________\n",
            " Layer (type)                Output Shape              Param #   \n",
            "=================================================================\n",
            " input_1 (InputLayer)        [(None, 256, 256, 3)]     0         \n",
            "                                                                 \n",
            " block1_conv1 (Conv2D)       (None, 256, 256, 64)      1792      \n",
            "                                                                 \n",
            " block1_conv2 (Conv2D)       (None, 256, 256, 64)      36928     \n",
            "                                                                 \n",
            " block1_pool (MaxPooling2D)  (None, 128, 128, 64)      0         \n",
            "                                                                 \n",
            " block2_conv1 (Conv2D)       (None, 128, 128, 128)     73856     \n",
            "                                                                 \n",
            " block2_conv2 (Conv2D)       (None, 128, 128, 128)     147584    \n",
            "                                                                 \n",
            " block2_pool (MaxPooling2D)  (None, 64, 64, 128)       0         \n",
            "                                                                 \n",
            " block3_conv1 (Conv2D)       (None, 64, 64, 256)       295168    \n",
            "                                                                 \n",
            " block3_conv2 (Conv2D)       (None, 64, 64, 256)       590080    \n",
            "                                                                 \n",
            " block3_conv3 (Conv2D)       (None, 64, 64, 256)       590080    \n",
            "                                                                 \n",
            " block3_conv4 (Conv2D)       (None, 64, 64, 256)       590080    \n",
            "                                                                 \n",
            " block3_pool (MaxPooling2D)  (None, 32, 32, 256)       0         \n",
            "                                                                 \n",
            " block4_conv1 (Conv2D)       (None, 32, 32, 512)       1180160   \n",
            "                                                                 \n",
            " block4_conv2 (Conv2D)       (None, 32, 32, 512)       2359808   \n",
            "                                                                 \n",
            " block4_conv3 (Conv2D)       (None, 32, 32, 512)       2359808   \n",
            "                                                                 \n",
            " block4_conv4 (Conv2D)       (None, 32, 32, 512)       2359808   \n",
            "                                                                 \n",
            " block4_pool (MaxPooling2D)  (None, 16, 16, 512)       0         \n",
            "                                                                 \n",
            " block5_conv1 (Conv2D)       (None, 16, 16, 512)       2359808   \n",
            "                                                                 \n",
            " block5_conv2 (Conv2D)       (None, 16, 16, 512)       2359808   \n",
            "                                                                 \n",
            " block5_conv3 (Conv2D)       (None, 16, 16, 512)       2359808   \n",
            "                                                                 \n",
            " block5_conv4 (Conv2D)       (None, 16, 16, 512)       2359808   \n",
            "                                                                 \n",
            " block5_pool (MaxPooling2D)  (None, 8, 8, 512)         0         \n",
            "                                                                 \n",
            "=================================================================\n",
            "Total params: 20,024,384\n",
            "Trainable params: 0\n",
            "Non-trainable params: 20,024,384\n",
            "_________________________________________________________________\n"
          ]
        }
      ]
    },
    {
      "cell_type": "code",
      "source": [
        "X = Flatten()(base_model.output)\n",
        "\n",
        "X = Dense(units = 13, activation = 'softmax')(X)\n",
        "\n",
        "# Creating the model\n",
        "model = Model(base_model.input, X)"
      ],
      "metadata": {
        "id": "vTo-gbo3nN8X"
      },
      "execution_count": null,
      "outputs": []
    },
    {
      "cell_type": "code",
      "source": [
        "model.summary()"
      ],
      "metadata": {
        "id": "pupVtaoHoPFP",
        "colab": {
          "base_uri": "https://localhost:8080/"
        },
        "outputId": "accfb319-6673-411e-ebfd-a9712f7ec3fa"
      },
      "execution_count": null,
      "outputs": [
        {
          "output_type": "stream",
          "name": "stdout",
          "text": [
            "Model: \"model\"\n",
            "_________________________________________________________________\n",
            " Layer (type)                Output Shape              Param #   \n",
            "=================================================================\n",
            " input_1 (InputLayer)        [(None, 256, 256, 3)]     0         \n",
            "                                                                 \n",
            " block1_conv1 (Conv2D)       (None, 256, 256, 64)      1792      \n",
            "                                                                 \n",
            " block1_conv2 (Conv2D)       (None, 256, 256, 64)      36928     \n",
            "                                                                 \n",
            " block1_pool (MaxPooling2D)  (None, 128, 128, 64)      0         \n",
            "                                                                 \n",
            " block2_conv1 (Conv2D)       (None, 128, 128, 128)     73856     \n",
            "                                                                 \n",
            " block2_conv2 (Conv2D)       (None, 128, 128, 128)     147584    \n",
            "                                                                 \n",
            " block2_pool (MaxPooling2D)  (None, 64, 64, 128)       0         \n",
            "                                                                 \n",
            " block3_conv1 (Conv2D)       (None, 64, 64, 256)       295168    \n",
            "                                                                 \n",
            " block3_conv2 (Conv2D)       (None, 64, 64, 256)       590080    \n",
            "                                                                 \n",
            " block3_conv3 (Conv2D)       (None, 64, 64, 256)       590080    \n",
            "                                                                 \n",
            " block3_conv4 (Conv2D)       (None, 64, 64, 256)       590080    \n",
            "                                                                 \n",
            " block3_pool (MaxPooling2D)  (None, 32, 32, 256)       0         \n",
            "                                                                 \n",
            " block4_conv1 (Conv2D)       (None, 32, 32, 512)       1180160   \n",
            "                                                                 \n",
            " block4_conv2 (Conv2D)       (None, 32, 32, 512)       2359808   \n",
            "                                                                 \n",
            " block4_conv3 (Conv2D)       (None, 32, 32, 512)       2359808   \n",
            "                                                                 \n",
            " block4_conv4 (Conv2D)       (None, 32, 32, 512)       2359808   \n",
            "                                                                 \n",
            " block4_pool (MaxPooling2D)  (None, 16, 16, 512)       0         \n",
            "                                                                 \n",
            " block5_conv1 (Conv2D)       (None, 16, 16, 512)       2359808   \n",
            "                                                                 \n",
            " block5_conv2 (Conv2D)       (None, 16, 16, 512)       2359808   \n",
            "                                                                 \n",
            " block5_conv3 (Conv2D)       (None, 16, 16, 512)       2359808   \n",
            "                                                                 \n",
            " block5_conv4 (Conv2D)       (None, 16, 16, 512)       2359808   \n",
            "                                                                 \n",
            " block5_pool (MaxPooling2D)  (None, 8, 8, 512)         0         \n",
            "                                                                 \n",
            " flatten (Flatten)           (None, 32768)             0         \n",
            "                                                                 \n",
            " dense (Dense)               (None, 13)                425997    \n",
            "                                                                 \n",
            "=================================================================\n",
            "Total params: 20,450,381\n",
            "Trainable params: 425,997\n",
            "Non-trainable params: 20,024,384\n",
            "_________________________________________________________________\n"
          ]
        }
      ]
    },
    {
      "cell_type": "code",
      "source": [
        "model.compile(optimizer = 'adam', loss = keras.losses.categorical_crossentropy, metrics = ['accuracy'])"
      ],
      "metadata": {
        "id": "BrCMWfm9rL0I"
      },
      "execution_count": null,
      "outputs": []
    },
    {
      "cell_type": "markdown",
      "source": [
        "# Early Stopping and Model Check Point"
      ],
      "metadata": {
        "id": "h8OE2OieUedA"
      }
    },
    {
      "cell_type": "code",
      "source": [
        "from keras.callbacks import ModelCheckpoint, EarlyStopping\n",
        "\n",
        "#Early Stopping\n",
        "es = EarlyStopping(monitor = \"val_accuracy\",\n",
        "                   min_delta = 0.01,\n",
        "                   patience = 3,\n",
        "                   verbose = 1)\n",
        "\n",
        "#Model Checkpoint\n",
        "mc = ModelCheckpoint(filepath = \"best_model.h5\",\n",
        "                     monitors = \"val_accuracy\",\n",
        "                     min_delta = 0.01,\n",
        "                     patience = 3,\n",
        "                     verbose = 1,\n",
        "                     save_best_only = True)\n",
        "\n",
        "cb = [es, mc]"
      ],
      "metadata": {
        "id": "Mmzyk8M_uJW1"
      },
      "execution_count": null,
      "outputs": []
    },
    {
      "cell_type": "code",
      "source": [
        "his = model.fit_generator(train, steps_per_epoch = 16,\n",
        "                          epochs = 50,\n",
        "                          verbose = 1,\n",
        "                          callbacks = cb,\n",
        "                          validation_data = val,\n",
        "                          validation_steps = 16)"
      ],
      "metadata": {
        "colab": {
          "base_uri": "https://localhost:8080/"
        },
        "id": "15gF6Brxs8Vs",
        "outputId": "fc98e882-7b33-4cc2-9cef-2018703e442f"
      },
      "execution_count": null,
      "outputs": [
        {
          "output_type": "stream",
          "name": "stderr",
          "text": [
            "<ipython-input-21-fdd1009aa6bc>:1: UserWarning: `Model.fit_generator` is deprecated and will be removed in a future version. Please use `Model.fit`, which supports generators.\n",
            "  his = model.fit_generator(train, steps_per_epoch = 16,\n"
          ]
        },
        {
          "output_type": "stream",
          "name": "stdout",
          "text": [
            "Epoch 1/50\n",
            "16/16 [==============================] - ETA: 0s - loss: 12.9064 - accuracy: 0.4062\n",
            "Epoch 1: val_loss improved from inf to 4.05599, saving model to best_model.h5\n",
            "16/16 [==============================] - 28s 742ms/step - loss: 12.9064 - accuracy: 0.4062 - val_loss: 4.0560 - val_accuracy: 0.7441\n",
            "Epoch 2/50\n",
            "16/16 [==============================] - ETA: 0s - loss: 4.5863 - accuracy: 0.7227\n",
            "Epoch 2: val_loss improved from 4.05599 to 2.59801, saving model to best_model.h5\n",
            "16/16 [==============================] - 12s 743ms/step - loss: 4.5863 - accuracy: 0.7227 - val_loss: 2.5980 - val_accuracy: 0.8516\n",
            "Epoch 3/50\n",
            "16/16 [==============================] - ETA: 0s - loss: 3.1608 - accuracy: 0.8203\n",
            "Epoch 3: val_loss improved from 2.59801 to 2.00767, saving model to best_model.h5\n",
            "16/16 [==============================] - 15s 944ms/step - loss: 3.1608 - accuracy: 0.8203 - val_loss: 2.0077 - val_accuracy: 0.8809\n",
            "Epoch 4/50\n",
            "16/16 [==============================] - ETA: 0s - loss: 2.4049 - accuracy: 0.8586\n",
            "Epoch 4: val_loss did not improve from 2.00767\n",
            "16/16 [==============================] - 18s 1s/step - loss: 2.4049 - accuracy: 0.8586 - val_loss: 2.3460 - val_accuracy: 0.8672\n",
            "Epoch 5/50\n",
            "16/16 [==============================] - ETA: 0s - loss: 2.1231 - accuracy: 0.8711\n",
            "Epoch 5: val_loss improved from 2.00767 to 1.36684, saving model to best_model.h5\n",
            "16/16 [==============================] - 14s 883ms/step - loss: 2.1231 - accuracy: 0.8711 - val_loss: 1.3668 - val_accuracy: 0.9043\n",
            "Epoch 6/50\n",
            "16/16 [==============================] - ETA: 0s - loss: 2.2656 - accuracy: 0.8711\n",
            "Epoch 6: val_loss did not improve from 1.36684\n",
            "16/16 [==============================] - 14s 869ms/step - loss: 2.2656 - accuracy: 0.8711 - val_loss: 1.9137 - val_accuracy: 0.8906\n",
            "Epoch 7/50\n",
            "16/16 [==============================] - ETA: 0s - loss: 3.0031 - accuracy: 0.8535\n",
            "Epoch 7: val_loss did not improve from 1.36684\n",
            "16/16 [==============================] - 15s 943ms/step - loss: 3.0031 - accuracy: 0.8535 - val_loss: 1.7923 - val_accuracy: 0.9043\n",
            "Epoch 8/50\n",
            "16/16 [==============================] - ETA: 0s - loss: 2.4311 - accuracy: 0.8725\n",
            "Epoch 8: val_loss did not improve from 1.36684\n",
            "16/16 [==============================] - 14s 889ms/step - loss: 2.4311 - accuracy: 0.8725 - val_loss: 1.7582 - val_accuracy: 0.8984\n",
            "Epoch 8: early stopping\n"
          ]
        }
      ]
    },
    {
      "cell_type": "code",
      "source": [
        "h = his.history\n",
        "h.keys()"
      ],
      "metadata": {
        "colab": {
          "base_uri": "https://localhost:8080/"
        },
        "id": "7CDIzMBNvYKs",
        "outputId": "d1c51fcc-aa86-4f34-e3fe-9dbbda1b125e"
      },
      "execution_count": null,
      "outputs": [
        {
          "output_type": "execute_result",
          "data": {
            "text/plain": [
              "dict_keys(['loss', 'accuracy', 'val_loss', 'val_accuracy'])"
            ]
          },
          "metadata": {},
          "execution_count": 22
        }
      ]
    },
    {
      "cell_type": "code",
      "source": [
        "plt.plot(h['accuracy'])\n",
        "plt.plot(h['val_accuracy'], c = 'red')\n",
        "plt.title('acc vs v-acc')\n",
        "plt.show()"
      ],
      "metadata": {
        "colab": {
          "base_uri": "https://localhost:8080/",
          "height": 452
        },
        "id": "94DwCIIfw0_6",
        "outputId": "72163ec1-9f5c-4456-9360-b364a6954ffe"
      },
      "execution_count": null,
      "outputs": [
        {
          "output_type": "display_data",
          "data": {
            "text/plain": [
              "<Figure size 640x480 with 1 Axes>"
            ],
            "image/png": "[encoded data removed]"
          },
          "metadata": {}
        }
      ]
    },
    {
      "cell_type": "code",
      "source": [
        "plt.plot(h['loss'])\n",
        "plt.plot(h['val_loss'], c = 'red')\n",
        "plt.title('loss vs v-loss')\n",
        "plt.show()"
      ],
      "metadata": {
        "colab": {
          "base_uri": "https://localhost:8080/",
          "height": 452
        },
        "id": "08HAX-e6xlnW",
        "outputId": "9e526fd1-7022-4694-f683-428345e834c9"
      },
      "execution_count": null,
      "outputs": [
        {
          "output_type": "display_data",
          "data": {
            "text/plain": [
              "<Figure size 640x480 with 1 Axes>"
            ],
            "image/png": "[encoded data removed]"
          },
          "metadata": {}
        }
      ]
    },
    {
      "cell_type": "code",
      "source": [
        "# load best model\n",
        "\n",
        "from keras.models import load_model\n",
        "\n",
        "model = load_model(\"/content/best_model.h5\")"
      ],
      "metadata": {
        "id": "j3VPbt9Cx14D"
      },
      "execution_count": null,
      "outputs": []
    },
    {
      "cell_type": "code",
      "source": [
        "acc = model.evaluate(val)[1]\n",
        "\n",
        "print(f\"The Accuracy of the model is = {acc*100} %\")"
      ],
      "metadata": {
        "colab": {
          "base_uri": "https://localhost:8080/"
        },
        "id": "KicSxB-wyQv1",
        "outputId": "249ac8e7-74ef-4326-dbd5-2d04ebdc53de"
      },
      "execution_count": null,
      "outputs": [
        {
          "output_type": "stream",
          "name": "stdout",
          "text": [
            "191/191 [==============================] - 41s 212ms/step - loss: 1.6104 - accuracy: 0.9047\n",
            "The Accuracy of the model is = 90.46836495399475 %\n"
          ]
        }
      ]
    },
    {
      "cell_type": "code",
      "source": [
        "ref = dict(zip(list(train.class_indices.values()), list(train.class_indices.keys()) ))\n",
        "ref"
      ],
      "metadata": {
        "id": "uoR8brdcKGpK",
        "colab": {
          "base_uri": "https://localhost:8080/"
        },
        "outputId": "5d054746-d763-4ab8-e557-666a361360e3"
      },
      "execution_count": null,
      "outputs": [
        {
          "output_type": "execute_result",
          "data": {
            "text/plain": [
              "{0: 'Apple___Apple_scab',\n",
              " 1: 'Apple___Cedar_apple_rust',\n",
              " 2: 'Apple___healthy',\n",
              " 3: 'Corn_(maize)___Common_rust_',\n",
              " 4: 'Corn_(maize)___healthy',\n",
              " 5: 'Grape___Black_rot',\n",
              " 6: 'Grape___healthy',\n",
              " 7: 'Potato___Early_blight',\n",
              " 8: 'Potato___Late_blight',\n",
              " 9: 'Potato___healthy',\n",
              " 10: 'Tomato___Bacterial_spot',\n",
              " 11: 'Tomato___Leaf_Mold',\n",
              " 12: 'Tomato___healthy'}"
            ]
          },
          "metadata": {},
          "execution_count": 34
        }
      ]
    },
    {
      "cell_type": "code",
      "source": [
        "def predict(path):\n",
        "  img = load_img(path, target_size=(256,256))\n",
        "\n",
        "  i = img_to_array(img)\n",
        "\n",
        "  im = preprocess_input(i)\n",
        "\n",
        "  img = np.expand_dims(im, axis = 0)\n",
        "\n",
        "  pred = np.argmax(model.predict(img))\n",
        "\n",
        "  print(f\"The image belongs to { ref[pred] } \")"
      ],
      "metadata": {
        "id": "QLXS1hQkZs-G"
      },
      "execution_count": null,
      "outputs": []
    },
    {
      "cell_type": "code",
      "source": [
        "path = \"/content/EDI_Dataset/test/test/CornCommonRust2.JPG\"\n",
        "\n",
        "predict(path)"
      ],
      "metadata": {
        "colab": {
          "base_uri": "https://localhost:8080/"
        },
        "id": "njAtNj2gahgp",
        "outputId": "bfab4302-52f4-483e-d8c3-f454567150e5"
      },
      "execution_count": null,
      "outputs": [
        {
          "output_type": "stream",
          "name": "stdout",
          "text": [
            "1/1 [==============================] - 1s 609ms/step\n",
            "The image belongs to Corn_(maize)___Common_rust_ \n"
          ]
        }
      ]
    },
    {
      "cell_type": "code",
      "source": [
        "val_pred = model.predict(val).round(2)\n",
        "val_pred"
      ],
      "metadata": {
        "colab": {
          "base_uri": "https://localhost:8080/"
        },
        "id": "D8a_kBerQTdV",
        "outputId": "0d1b24b7-4fdb-403e-8c43-0612cf1e720f"
      },
      "execution_count": null,
      "outputs": [
        {
          "output_type": "stream",
          "name": "stdout",
          "text": [
            "191/191 [==============================] - 41s 213ms/step\n"
          ]
        },
        {
          "output_type": "execute_result",
          "data": {
            "text/plain": [
              "array([[0., 0., 1., ..., 0., 0., 0.],\n",
              "       [1., 0., 0., ..., 0., 0., 0.],\n",
              "       [0., 0., 0., ..., 0., 0., 0.],\n",
              "       ...,\n",
              "       [1., 0., 0., ..., 0., 0., 0.],\n",
              "       [0., 0., 0., ..., 0., 0., 0.],\n",
              "       [0., 1., 0., ..., 0., 0., 0.]], dtype=float32)"
            ]
          },
          "metadata": {},
          "execution_count": 30
        }
      ]
    },
    {
      "cell_type": "code",
      "source": [
        "import pickle\n",
        "pickle.dump(ref, open('classes.pkl', 'wb'))"
      ],
      "metadata": {
        "id": "v7veyrhnUiEZ"
      },
      "execution_count": null,
      "outputs": []
    }
  ]
}